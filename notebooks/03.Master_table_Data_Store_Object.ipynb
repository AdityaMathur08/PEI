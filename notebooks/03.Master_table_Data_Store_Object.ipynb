{
 "cells": [
  {
   "cell_type": "code",
   "execution_count": null,
   "metadata": {},
   "outputs": [],
   "source": [
    "from pyspark.sql import SparkSession\n",
    "from pyspark.sql import functions as F\n",
    "from pyspark.sql.types import StructType, StructField, StringType, IntegerType, DateType, TimestampType, DoubleType\n",
    "import sys\n",
    "spark = SparkSession.builder.appName(\"DataStoreObject\").getOrCreate()"
   ]
  },
  {
   "cell_type": "code",
   "execution_count": 1,
   "metadata": {},
   "outputs": [],
   "source": [
    "source_schema_name = \"_silver\"\n",
    "target_schema_name = \"_gold\""
   ]
  },
  {
   "cell_type": "markdown",
   "metadata": {},
   "source": [
    "Reading Customer,Order,Product Tables from _silver schema"
   ]
  },
  {
   "cell_type": "code",
   "execution_count": null,
   "metadata": {},
   "outputs": [],
   "source": [
    "table_name = 'customer_table'\n",
    "customer_df = spark.sql(f\"SELECT * FROM {source_schema_name}.{table_name}\")"
   ]
  },
  {
   "cell_type": "code",
   "execution_count": null,
   "metadata": {},
   "outputs": [],
   "source": [
    "table_name = 'product_table'\n",
    "product_df = spark.sql(f\"SELECT * FROM {source_schema_name}.{table_name}\")"
   ]
  },
  {
   "cell_type": "code",
   "execution_count": null,
   "metadata": {},
   "outputs": [],
   "source": [
    "table_name = 'orders_table'\n",
    "orders_df = spark.sql(f\"SELECT * FROM {source_schema_name}.{table_name}\")\n",
    "orders_df = orders_df.withColumn(\"Profit\", F.round(orders_df.Profit, 2))"
   ]
  },
  {
   "cell_type": "markdown",
   "metadata": {},
   "source": [
    "Merging Orders,product, customer tables\n",
    "![DSO.png](../img/DSO.png)"
   ]
  },
  {
   "cell_type": "code",
   "execution_count": 2,
   "metadata": {},
   "outputs": [],
   "source": [
    "\n",
    "# Add aliases to the dataframes\n",
    "customer_alias = customer_df.alias(\"customer\")\n",
    "orders_alias = orders_df.alias(\"orders\")\n",
    "product_alias = product_df.alias(\"product\")"
   ]
  },
  {
   "cell_type": "code",
   "execution_count": null,
   "metadata": {},
   "outputs": [],
   "source": [
    "# Join customer_df and orders_df using aliases\n",
    "intermediate_df = customer_alias.join(orders_alias, customer_alias.Customer_ID == orders_alias.Customer_ID)\n",
    "\n",
    "# Join intermediate_df and product_df using aliases\n",
    "master_dso_df = intermediate_df.join(product_alias, intermediate_df.Product_ID == product_alias.Product_ID)"
   ]
  },
  {
   "cell_type": "code",
   "execution_count": null,
   "metadata": {},
   "outputs": [],
   "source": [
    "# Select columns from the final joined dataframe\n",
    "master_dso_df = master_dso_df.select(\n",
    "    \"orders.Order_ID\", \n",
    "    \"orders.Order_Date\", \n",
    "    \"customer.Customer_ID\", \n",
    "    \"customer.Customer_Name\",\n",
    "    \"customer.Country\", \n",
    "    \"product.Product_ID\", \n",
    "    \"product.Product_Name\",\n",
    "    \"product.Category\",\n",
    "    \"product.Sub-Category\",\n",
    "    \"orders.Quantity\",\n",
    "    \"orders.Discount\", \n",
    "    \"product.Price_Per_Product\",\n",
    "    \"orders.Profit\"\n",
    ")"
   ]
  },
  {
   "cell_type": "code",
   "execution_count": null,
   "metadata": {},
   "outputs": [],
   "source": [
    "table_name = 'master_dso'\n",
    "master_dso_df.write.mode(\"overwrite\").saveAsTable(f\"{target_schema_name}.{table_name}\")"
   ]
  }
 ],
 "metadata": {
  "kernelspec": {
   "display_name": ".venv",
   "language": "python",
   "name": "python3"
  },
  "language_info": {
   "codemirror_mode": {
    "name": "ipython",
    "version": 3
   },
   "file_extension": ".py",
   "mimetype": "text/x-python",
   "name": "python",
   "nbconvert_exporter": "python",
   "pygments_lexer": "ipython3",
   "version": "3.9.7"
  }
 },
 "nbformat": 4,
 "nbformat_minor": 2
}
