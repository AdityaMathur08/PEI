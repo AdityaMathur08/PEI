{
 "cells": [
  {
   "cell_type": "code",
   "execution_count": null,
   "metadata": {},
   "outputs": [],
   "source": [
    "from pyspark.sql import SparkSession\n",
    "from pyspark.sql import functions as F\n",
    "\n",
    "spark = SparkSession.builder.appName(\"PysparkSQLAnalysis\").getOrCreate()\n",
    "\n",
    "source_schema = \"_gold\"\n",
    "source_table = \"master_dso\""
   ]
  },
  {
   "cell_type": "code",
   "execution_count": null,
   "metadata": {},
   "outputs": [],
   "source": [
    "## Create a temp table to run sql queries.\n",
    "df = spark.sql(f\"SELECT * FROM {source_schema}.{source_table}\")\n",
    "df.createOrReplaceTempView(\"master_dso\")"
   ]
  },
  {
   "cell_type": "markdown",
   "metadata": {},
   "source": [
    "- Profit by Year"
   ]
  },
  {
   "cell_type": "code",
   "execution_count": null,
   "metadata": {},
   "outputs": [],
   "source": [
    "profit_by_year = spark.sql(\"\"\"\n",
    "    SELECT YEAR(Order_Date) AS Year,\n",
    "           SUM(Profit) AS Total_Profit\n",
    "    FROM master_dso\n",
    "    GROUP BY YEAR(Order_Date)\n",
    "    ORDER BY Year\n",
    "\"\"\")\n",
    "profit_by_year.show()"
   ]
  },
  {
   "cell_type": "markdown",
   "metadata": {},
   "source": [
    "- Profit by Year + Product Category"
   ]
  },
  {
   "cell_type": "code",
   "execution_count": null,
   "metadata": {},
   "outputs": [],
   "source": [
    "profit_by_year_category = spark.sql(\"\"\"\n",
    "    SELECT YEAR(Order_Date) AS Year,\n",
    "            Category,\n",
    "           SUM(Profit) AS Total_Profit\n",
    "    FROM master_dso\n",
    "    GROUP BY YEAR(Order_Date),Category\n",
    "    ORDER BY Year,Category\n",
    "\"\"\")\n",
    "profit_by_year_category.show()"
   ]
  },
  {
   "cell_type": "markdown",
   "metadata": {},
   "source": [
    "- Profit by Customer"
   ]
  },
  {
   "cell_type": "code",
   "execution_count": null,
   "metadata": {},
   "outputs": [],
   "source": [
    "profit_by_customer = spark.sql(\"\"\"\n",
    "    SELECT Customer_ID,\n",
    "            Customer_Name,\n",
    "            SUM(Profit) AS Total_Profit\n",
    "    FROM master_dso\n",
    "    GROUP BY Customer_ID,Customer_Name\n",
    "ORDER BY Total_Profit DESC\n",
    "  \"\"\")\n",
    "profit_by_customer.show()"
   ]
  },
  {
   "cell_type": "markdown",
   "metadata": {},
   "source": [
    "- Profit by Customer + Year"
   ]
  },
  {
   "cell_type": "code",
   "execution_count": null,
   "metadata": {},
   "outputs": [],
   "source": [
    "profit_by_customer_year = spark.sql(\"\"\"\n",
    "    SELECT YEAR(Order_Date) AS Year,\n",
    "            Customer_ID,\n",
    "            Customer_Name,\n",
    "            SUM(Profit) AS Total_Profit\n",
    "    FROM master_dso\n",
    "    GROUP BY YEAR(Order_Date),Customer_ID,Customer_Name\n",
    "    ORDER BY Total_Profit DESC\n",
    "\"\"\")\n",
    "profit_by_customer_year.show()"
   ]
  }
 ],
 "metadata": {
  "language_info": {
   "name": "python"
  }
 },
 "nbformat": 4,
 "nbformat_minor": 2
}
