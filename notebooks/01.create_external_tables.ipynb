{
 "cells": [
  {
   "cell_type": "markdown",
   "metadata": {},
   "source": [
    "## Initializing Spark application "
   ]
  },
  {
   "cell_type": "code",
   "execution_count": null,
   "metadata": {},
   "outputs": [],
   "source": [
    "# Import the necessary libraries\n",
    "from pyspark.sql import SparkSession\n",
    "import configparser\n",
    "import os\n",
    "\n",
    "__file__ = \"01.create_external_tables.ipynb\"\n",
    "script_dir = os.path.dirname(os.path.abspath(__file__))\n",
    "parser = configparser.ConfigParser()\n",
    "conf_path = os.path.join(script_dir, \"pipeline.conf\")\n",
    "parser.read(conf_path) \n",
    "\n",
    "access_key = parser.get(\"aws_boto_credentials\",\"access_key\")\n",
    "secret_key = parser.get(\"aws_boto_credentials\",\"secret_key\")\n",
    "\n",
    "\n",
    "# Initialize the SparkSession\n",
    "spark = SparkSession.builder.appName(\"GeneratingExternalTables\").config(\"spark.hadoop.fs.s3a.impl\", \"org.apache.hadoop.fs.s3a.S3AFileSystem\").config(\"spark.hadoop.fs.s3a.access.key\",access_key).config(\"spark.hadoop.fs.s3a.secret.key\",secret_key).getOrCreate()\n",
    "\n",
    "schema_name = '_bronze'"
   ]
  },
  {
   "cell_type": "markdown",
   "metadata": {},
   "source": [
    "## External Table for Orders"
   ]
  },
  {
   "cell_type": "code",
   "execution_count": null,
   "metadata": {},
   "outputs": [],
   "source": [
    "\n",
    "\n",
    "from pipeline.extract.bronze_schema import orders_external_table_schema,external_order_s3_bucket_path \n",
    "\n",
    "table_name = 'orders_table'\n",
    "\n",
    "# Execute the CREATE EXTERNAL TABLE SQL statement\n",
    "spark.sql(f\"\"\"\n",
    "    CREATE EXTERNAL TABLE IF NOT EXISTS {schema_name}.{table_name} ({orders_external_table_schema })\n",
    "    USING csv\n",
    "    OPTIONS (\n",
    "        PATH '{external_order_s3_bucket_path}',\n",
    "        HEADER 'true',\n",
    "        INFERSCHEMA 'false',\n",
    "        DELIMITER ','\n",
    "    )\n",
    "\"\"\")"
   ]
  },
  {
   "cell_type": "markdown",
   "metadata": {},
   "source": [
    "## External Table for Product"
   ]
  },
  {
   "cell_type": "code",
   "execution_count": null,
   "metadata": {},
   "outputs": [],
   "source": [
    "from pipeline.extract.bronze_schema import product_external_table_schema,external_product_s3_bucket_path\n",
    "\n",
    "table_name = 'product_table'\n",
    "# Execute the CREATE EXTERNAL TABLE SQL statement\n",
    "spark.sql(f\"\"\"\n",
    "    CREATE EXTERNAL TABLE IF NOT EXISTS {schema_name}.{table_name} ({product_external_table_schema})\n",
    "    USING csv\n",
    "    OPTIONS (\n",
    "        PATH '{external_product_s3_bucket_path}',\n",
    "        HEADER 'true',\n",
    "        INFERSCHEMA 'false',\n",
    "        DELIMITER ','\n",
    "    )\n",
    "\"\"\")"
   ]
  },
  {
   "cell_type": "markdown",
   "metadata": {},
   "source": [
    "## External Table for Customers"
   ]
  },
  {
   "cell_type": "code",
   "execution_count": null,
   "metadata": {},
   "outputs": [],
   "source": [
    "from pipeline.extract.bronze_schema import customer_external_table_schema,external_customer_s3_bucket_path\n",
    "\n",
    "table_name = 'customer_table'\n",
    "# Execute the CREATE EXTERNAL TABLE SQL statement\n",
    "spark.sql(f\"\"\"\n",
    "    CREATE EXTERNAL TABLE IF NOT EXISTS {schema_name}.{table_name} ({customer_external_table_schema})\n",
    "    USING csv\n",
    "    OPTIONS (\n",
    "        PATH '{external_customer_s3_bucket_path}',\n",
    "        HEADER 'true',\n",
    "        INFERSCHEMA 'false',\n",
    "        DELIMITER ','\n",
    "    )\n",
    "\"\"\")"
   ]
  }
 ],
 "metadata": {
  "kernelspec": {
   "display_name": ".venv",
   "language": "python",
   "name": "python3"
  },
  "language_info": {
   "name": "python",
   "version": "3.9.7"
  }
 },
 "nbformat": 4,
 "nbformat_minor": 2
}
