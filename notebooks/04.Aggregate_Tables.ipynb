{
 "cells": [
  {
   "cell_type": "code",
   "execution_count": null,
   "metadata": {},
   "outputs": [],
   "source": [
    "from pyspark.sql import SparkSession\n",
    "from pyspark.sql import functions as F\n",
    "\n",
    "spark = SparkSession.builder.appName(\"AggregateTables\").getOrCreate()\n",
    "\n",
    "source_schema = \"_gold\"\n",
    "target_schema = \"_gold\" \n",
    "source_table = \"master_dso\""
   ]
  },
  {
   "cell_type": "code",
   "execution_count": null,
   "metadata": {},
   "outputs": [],
   "source": [
    "master_dso_df = spark.sql(f\"SELECT * FROM {source_schema}.{source_table}\")"
   ]
  },
  {
   "cell_type": "markdown",
   "metadata": {},
   "source": [
    "#### Aggregate Table Profits By Year\n"
   ]
  },
  {
   "cell_type": "code",
   "execution_count": null,
   "metadata": {},
   "outputs": [],
   "source": [
    "# Calculate year from Order_Date column\n",
    "master_dso_df  = master_dso_df.withColumn(\"Year\", F.year(\"Order_Date\"))\n",
    "\n",
    "# Group by year and calculate total profit for each year\n",
    "profit_by_year = master_dso_df.groupBy(\"Year\").agg(F.sum(\"Profit\").alias(\"Total_Profit\")).orderBy(\"Year\")\n",
    "\n",
    "# Show the aggregated profits by year\n",
    "profit_by_year.show()\n",
    "\n",
    "# Save the aggregated profits by year to a new table\n",
    "\n",
    "profit_by_year.write.mode(\"overwrite\").saveAsTable(f\"{target_schema}.profit_by_year\")"
   ]
  },
  {
   "cell_type": "markdown",
   "metadata": {},
   "source": [
    "#### Aggregate Table Profits by - Product Category"
   ]
  },
  {
   "cell_type": "code",
   "execution_count": null,
   "metadata": {},
   "outputs": [],
   "source": [
    "profit_by_product_category = master_dso_df.groupBy(\"Category\").agg(F.sum(\"Profit\").alias(\"Total_Profit\")).orderBy(\"Total_Profit\", ascending=False)\n",
    "\n",
    "# Show the aggregated profits by product category\n",
    "profit_by_product_category.show()\n",
    "# Save the aggregated profits by product category to a new table\n",
    "profit_by_product_category.write.mode(\"overwrite\").saveAsTable(f\"{target_schema}.profit_by_product_category\")"
   ]
  },
  {
   "cell_type": "markdown",
   "metadata": {},
   "source": [
    "#### Aggregate Table Profits By Product Sub Category"
   ]
  },
  {
   "cell_type": "code",
   "execution_count": null,
   "metadata": {},
   "outputs": [],
   "source": [
    "profit_by_sub_category = master_dso_df.groupBy(\"Sub-Category\").agg(F.sum(\"Profit\").alias(\"Total_Profit\")).orderBy(\"Total_Profit\", ascending=False)\n",
    "\n",
    "# Show the aggregated profits by product sub category\n",
    "profit_by_sub_category.show()\n",
    "\n",
    "# Save the aggregated profits by product sub category to a new table\n",
    "profit_by_sub_category.write.mode(\"overwrite\").saveAsTable(f\"{target_schema}.profit_by_sub_category\")"
   ]
  },
  {
   "cell_type": "markdown",
   "metadata": {},
   "source": [
    "#### Aggregate Table Profits By Customer"
   ]
  },
  {
   "cell_type": "code",
   "execution_count": null,
   "metadata": {},
   "outputs": [],
   "source": [
    "profit_by_customer = master_dso_df.groupBy(\"Customer_ID\", \"Customer_Name\").agg(F.sum(\"Profit\").alias(\"Total_Profit\"))\n",
    "\n",
    "# Show the aggregated profits by customer\n",
    "profit_by_customer.show()\n",
    "\n",
    "# Save the aggregated profits by customer to a new table\n",
    "profit_by_customer.write.mode(\"overwrite\").saveAsTable(f\"{target_schema}.profit_by_customer\")"
   ]
  }
 ],
 "metadata": {
  "language_info": {
   "name": "python"
  }
 },
 "nbformat": 4,
 "nbformat_minor": 2
}
