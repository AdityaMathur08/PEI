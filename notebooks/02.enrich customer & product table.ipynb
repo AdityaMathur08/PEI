{
 "cells": [
  {
   "cell_type": "code",
   "execution_count": null,
   "metadata": {},
   "outputs": [],
   "source": [
    "from pyspark.sql import SparkSession\n",
    "from pyspark.sql import functions as F\n",
    "from pyspark.sql.types import StructType, StructField, StringType, IntegerType, DateType, TimestampType, DoubleType\n",
    "import sys\n",
    "spark = SparkSession.builder.appName(\"SilverTable\").getOrCreate()\n",
    "source_schema_name = \"_bronze\"\n",
    "target_schema_name = \"_silver\"\n",
    "\n",
    "\n"
   ]
  },
  {
   "cell_type": "code",
   "execution_count": null,
   "metadata": {},
   "outputs": [],
   "source": [
    "# fixing module import errors\n",
    "import os\n",
    "__file__ = \"02.enrich customer & product table.ipynb\"\n",
    "\n",
    "script_dir = os.path.dirname(os.path.abspath(__file__))\n",
    "print(f'this is script dir {script_dir}')\n",
    "root_dir = os.path.normpath(os.path.join(os.path.dirname(os.path.abspath(__file__)), '..'))\n",
    "print(f'this is root dir {root_dir}')\n",
    "sys.path.insert(0,root_dir)\n",
    "print(sys.path)"
   ]
  },
  {
   "cell_type": "markdown",
   "metadata": {},
   "source": [
    "Customer Enriched Table"
   ]
  },
  {
   "cell_type": "code",
   "execution_count": null,
   "metadata": {},
   "outputs": [],
   "source": [
    "from pipeline.transformation.customer_utils import fix_customer_name_string,fix_phone_number_string\n",
    "from pipeline.transformation.common_utils import standardize_column_names\n",
    "\n",
    "# Define a UDF \n",
    "udfFixCustomerName = F.udf(fix_customer_name_string,StringType())\n",
    "udfFixPhoneNumber = F.udf(fix_phone_number_string,StringType())\n"
   ]
  },
  {
   "cell_type": "code",
   "execution_count": null,
   "metadata": {},
   "outputs": [],
   "source": [
    "\n",
    "table_name = \"customer_table\"\n",
    "\n",
    "customer_df = spark.sql(f\"SELECT * FROM {source_schema_name}.{table_name}\")\n",
    "\n",
    "\n",
    "customer_df = customer_df.withColumn(\"Customer Name\", udfFixCustomerName(F.col(\"Customer Name\")))\n",
    "customer_df = customer_df.withColumn(\"Phone\", udfFixPhoneNumber(F.col(\"Phone\")))\n",
    "\n",
    "customer_df = standardize_column_names(customer_df)\n",
    "customer_df.write.mode(\"overwrite\").saveAsTable(f\"{target_schema_name}.{table_name}\")"
   ]
  },
  {
   "cell_type": "markdown",
   "metadata": {},
   "source": [
    "Product Enriched Table"
   ]
  },
  {
   "cell_type": "code",
   "execution_count": null,
   "metadata": {},
   "outputs": [],
   "source": [
    "from pipeline.transformation.products_utils import clean_product_name\n",
    "\n",
    "udfFixProductName = F.udf(clean_product_name,StringType())\n",
    "\n",
    "table_name = 'product_table'\n",
    "product_df = spark.sql(f\"SELECT * FROM {source_schema_name}.{table_name}\")\n",
    "product_df = standardize_column_names(product_df)\n",
    "product_df = product_df.withColumn(\"Product_Name\",udfFixProductName(\"Product_Name\"))\n",
    "product_df.write.mode(\"overwrite\").saveAsTable(f\"{target_schema_name}.{table_name}\")\n"
   ]
  },
  {
   "cell_type": "markdown",
   "metadata": {},
   "source": [
    "Orders Table:"
   ]
  },
  {
   "cell_type": "code",
   "execution_count": null,
   "metadata": {},
   "outputs": [],
   "source": [
    "from pipeline.transformation.common_utils import transform_date\n",
    "table_name = 'orders_table'\n",
    "orders_df = spark.sql(f\"SELECT * FROM {source_schema_name}.{table_name}\")\n",
    "orders_df = standardize_column_names(orders_df)\n",
    "orders_df = transform_date(orders_df, 'Order_Date')\n",
    "orders_df = transform_date(orders_df,'Ship_Date')\n",
    "orders_df.write.mode(\"overwrite\").saveAsTable(f\"{target_schema_name}.{table_name}\")"
   ]
  }
 ],
 "metadata": {
  "kernelspec": {
   "display_name": ".venv",
   "language": "python",
   "name": "python3"
  },
  "language_info": {
   "codemirror_mode": {
    "name": "ipython",
    "version": 3
   },
   "file_extension": ".py",
   "mimetype": "text/x-python",
   "name": "python",
   "nbconvert_exporter": "python",
   "pygments_lexer": "ipython3",
   "version": "3.9.7"
  }
 },
 "nbformat": 4,
 "nbformat_minor": 2
}
